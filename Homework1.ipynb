{
  "nbformat": 4,
  "nbformat_minor": 0,
  "metadata": {
    "colab": {
      "name": "Homework1.ipynb",
      "provenance": [],
      "collapsed_sections": [],
      "include_colab_link": true
    },
    "kernelspec": {
      "name": "python3",
      "display_name": "Python 3"
    },
    "language_info": {
      "name": "python"
    }
  },
  "cells": [
    {
      "cell_type": "markdown",
      "metadata": {
        "id": "view-in-github",
        "colab_type": "text"
      },
      "source": [
        "<a href=\"https://colab.research.google.com/github/nicatglyv/data/blob/main/Homework1.ipynb\" target=\"_parent\"><img src=\"https://colab.research.google.com/assets/colab-badge.svg\" alt=\"Open In Colab\"/></a>"
      ]
    },
    {
      "cell_type": "code",
      "execution_count": 18,
      "metadata": {
        "colab": {
          "base_uri": "https://localhost:8080/"
        },
        "id": "jrVeHsm1rpdT",
        "outputId": "1c265c27-71b7-43ae-f31a-31fcd18d4cc5"
      },
      "outputs": [
        {
          "output_type": "stream",
          "name": "stdout",
          "text": [
            "What is your name? Nicat\n",
            "What is your age? 20\n",
            "My name is Nicat. My age is 20\n"
          ]
        }
      ],
      "source": [
        "#Q1-Get your name and age as input and print it in the form like\n",
        "#Your name is Hulisi. Your age is 43\n",
        "name=input('What is your name? ')\n",
        "age=input('What is your age? ')\n",
        "print(\"My name is \"+name+\". My age is \"+age+\"\")"
      ]
    },
    {
      "cell_type": "code",
      "source": [
        "#Q2-Write a if statement for a given two number is equal or not\n",
        "a=43\n",
        "b=54\n",
        "if(a==b):\n",
        "  print(\"These numbers are equal\")\n",
        "else:\n",
        "  print(\"These numbers are not equal\")\n"
      ],
      "metadata": {
        "id": "7Sfg03_PuVWa",
        "outputId": "374a4083-840b-4603-e7a3-0b8b74f01582",
        "colab": {
          "base_uri": "https://localhost:8080/"
        }
      },
      "execution_count": 19,
      "outputs": [
        {
          "output_type": "stream",
          "name": "stdout",
          "text": [
            "These numbers are not equal\n"
          ]
        }
      ]
    },
    {
      "cell_type": "code",
      "source": [
        "#Q3-Write a if statement for first number is greater (a), equal or less than second number.(b)\n",
        "a=43\n",
        "b=54\n",
        "if(a>b):\n",
        "  print(\"First number is greater than Second number\")\n",
        "else:\n",
        "  print(\"First number is equal or less than Second number\")\n"
      ],
      "metadata": {
        "id": "NtUibZ07u5gs",
        "outputId": "6cc67221-0f80-4e42-b14c-b71105cf3bbf",
        "colab": {
          "base_uri": "https://localhost:8080/"
        }
      },
      "execution_count": 20,
      "outputs": [
        {
          "output_type": "stream",
          "name": "stdout",
          "text": [
            "First number is equal or less than Second number\n"
          ]
        }
      ]
    },
    {
      "cell_type": "code",
      "source": [
        "#Q4- Using for loop, print 1,2,3,4,5\n",
        "for i in range(1,6):\n",
        "  print(i)"
      ],
      "metadata": {
        "id": "U1UMQv36wNHP",
        "outputId": "50099559-202b-46db-e2ed-fb45f6f087d5",
        "colab": {
          "base_uri": "https://localhost:8080/"
        }
      },
      "execution_count": 21,
      "outputs": [
        {
          "output_type": "stream",
          "name": "stdout",
          "text": [
            "1\n",
            "2\n",
            "3\n",
            "4\n",
            "5\n"
          ]
        }
      ]
    },
    {
      "cell_type": "code",
      "source": [
        "#Q5-Using while loop, print 5,4,3,2,1\n",
        "for i in range(5,0,-1):\n",
        "  print(i)\n"
      ],
      "metadata": {
        "id": "bh5Lga7XxGY8",
        "outputId": "477a2360-f837-4a21-9966-9d29849f81c3",
        "colab": {
          "base_uri": "https://localhost:8080/"
        }
      },
      "execution_count": 22,
      "outputs": [
        {
          "output_type": "stream",
          "name": "stdout",
          "text": [
            "5\n",
            "4\n",
            "3\n",
            "2\n",
            "1\n"
          ]
        }
      ]
    },
    {
      "cell_type": "code",
      "source": [
        "#Q6- Using for loop, print 10,6,4,2,0\n",
        "#Hint Print if number is not equal to 8.\n",
        "for i in range(10,-1,-2):\n",
        "  if (i)!=8:\n",
        "    print(i)"
      ],
      "metadata": {
        "id": "cXTTDS49xSoi",
        "outputId": "54db12fd-dd26-4342-bbb0-e93987507a7b",
        "colab": {
          "base_uri": "https://localhost:8080/"
        }
      },
      "execution_count": 23,
      "outputs": [
        {
          "output_type": "stream",
          "name": "stdout",
          "text": [
            "10\n",
            "6\n",
            "4\n",
            "2\n",
            "0\n"
          ]
        }
      ]
    },
    {
      "cell_type": "code",
      "source": [
        "#Q7-Write a method to calculate age for a given date of birth year.\n",
        "#Use this method on orer to calculate age of person if date of birth is 1944\n",
        "# if age is the name of function, print(age(1944))\n",
        "def age(year):\n",
        "    return(2022 - year)\n",
        "\n",
        "print(age(1944))"
      ],
      "metadata": {
        "id": "geUjb-vuyYbF",
        "outputId": "21341f74-83ec-4644-a2da-06c5efcbb74f",
        "colab": {
          "base_uri": "https://localhost:8080/"
        }
      },
      "execution_count": 24,
      "outputs": [
        {
          "output_type": "stream",
          "name": "stdout",
          "text": [
            "78\n"
          ]
        }
      ]
    },
    {
      "cell_type": "code",
      "source": [
        "#Q8-Write a class named arithmetic with method for calculating addition, substraction, multiplication and division of two numbers.\n",
        "class arithmetic:\n",
        "  def addition(x,y):\n",
        "    print(x+y)\n",
        "  def substraction(x,y):\n",
        "    print(x-y)\n",
        "  def multiplication(x,y):\n",
        "    print(x*y)\n",
        "  def division(x,y):\n",
        "    print(x/y)\n",
        "\n",
        "arithmetic.addition(5,8) \n",
        "arithmetic.substraction(21,10)\n",
        "arithmetic.multiplication(2,3)\n",
        "arithmetic.division(12,3)"
      ],
      "metadata": {
        "id": "YcyFzE3fzC7_",
        "outputId": "64208b69-ed41-42bb-f32d-d5e1ad2e0ffa",
        "colab": {
          "base_uri": "https://localhost:8080/"
        }
      },
      "execution_count": 25,
      "outputs": [
        {
          "output_type": "stream",
          "name": "stdout",
          "text": [
            "13\n",
            "11\n",
            "6\n",
            "4.0\n"
          ]
        }
      ]
    },
    {
      "cell_type": "code",
      "source": [
        "#Q9- write a for loop or method  to calculate summation of first n numbers\n",
        "#i.e if n=3, it will print or return 6 (1+2+3)\n",
        "n= int(input(\"n:\"))\n",
        "sum= 0\n",
        "for a in range(1, n+1):\n",
        "    sum = sum + a\n",
        "print(sum)"
      ],
      "metadata": {
        "id": "AUJWr5YqzadI",
        "outputId": "f0d79f4d-92a8-4d2e-deb3-8e97294db20f",
        "colab": {
          "base_uri": "https://localhost:8080/"
        }
      },
      "execution_count": 26,
      "outputs": [
        {
          "output_type": "stream",
          "name": "stdout",
          "text": [
            "n:12\n",
            "78\n"
          ]
        }
      ]
    },
    {
      "cell_type": "code",
      "source": [
        "#Q10-Generate 10 numbers between 0 and 1 and add into list. Print first three elements of that list. \n",
        "import random\n",
        "list = []\n",
        "for i in range(0,10):\n",
        "  n = random.uniform(0,1)\n",
        "  list.append(n)\n",
        "list[:3]"
      ],
      "metadata": {
        "id": "hmtvJdCL02qx",
        "outputId": "0f50b6db-3a6e-42ef-d9ac-a07d36d7d64b",
        "colab": {
          "base_uri": "https://localhost:8080/"
        }
      },
      "execution_count": 27,
      "outputs": [
        {
          "output_type": "execute_result",
          "data": {
            "text/plain": [
              "[0.29766683725617316, 0.9361875928753267, 0.4713390121489104]"
            ]
          },
          "metadata": {},
          "execution_count": 27
        }
      ]
    },
    {
      "cell_type": "code",
      "source": [
        "#Q11-For a given number n, print numbers divisible by 3 up to that number(n included)\n",
        "#Example: if n=15, print 3,6,9,12,15\n",
        "#Hint you can use modulus statement (if (i%3==0))\n",
        "\n",
        "n=int(input(\"n:\"))\n",
        "for a in range(1,n+1):\n",
        "  if a%3==0:\n",
        "    print(a)"
      ],
      "metadata": {
        "id": "5O6Y2CujcAAs",
        "outputId": "4b75746e-13ff-4929-d2b6-2f57d17342a1",
        "colab": {
          "base_uri": "https://localhost:8080/"
        }
      },
      "execution_count": 28,
      "outputs": [
        {
          "output_type": "stream",
          "name": "stdout",
          "text": [
            "n:13\n",
            "3\n",
            "6\n",
            "9\n",
            "12\n"
          ]
        }
      ]
    }
  ]
}